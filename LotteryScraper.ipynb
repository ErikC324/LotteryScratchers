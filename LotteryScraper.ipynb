{
 "cells": [
  {
   "cell_type": "markdown",
   "metadata": {},
   "source": [
    "# Scraping Scratcher Data"
   ]
  },
  {
   "cell_type": "code",
   "execution_count": null,
   "metadata": {},
   "outputs": [],
   "source": [
    "from bs4 import BeautifulSoup\n",
    "import pandas as pd\n",
    "import requests\n",
    "import time\n",
    "\n",
    "class Scratcher:\n",
    "    \"\"\"\n",
    "    A class used to represent a Lottery Scratcher Game\n",
    "\n",
    "    Attributes\n",
    "    ----------\n",
    "    name : str\n",
    "        the title given to the scratcher game\n",
    "    last_update : datetime\n",
    "        date that the distribution of prizes was last updated\n",
    "    price : int\n",
    "        price of a single scratcher\n",
    "    game_start : datetime\n",
    "        date that the game was first sold\n",
    "    prize_table : pandas dataframe object\n",
    "        dataframe that contains the available prizes and the amount of each remaining\n",
    "    overall_odds : float\n",
    "        the overall odds that the scratcher wins any prize at all\n",
    "    num_tickets : float\n",
    "        the number of tickets at the start of the game\n",
    "    orig_ev : float\n",
    "        the original expected value of the scratcher\n",
    "    remaining_tickets : float\n",
    "        the estimated amount of tickets that remain unsold\n",
    "    cur_ev : float\n",
    "        the current value of the scratcher based on the amount of prizes remaining\n",
    "    orig_ROI : float\n",
    "        the original return on investment at the start of the game\n",
    "    cur_ROI : float\n",
    "        the current return on investment based on the amount of prizes remaining\n",
    "    \"\"\"\n",
    "    \n",
    "    def __init__(self, name, last_update, price, game_start, prize_table, overall_odds):\n",
    "        '''Initializes Scratcher object and calculates the estimated number of tickets remaining and\n",
    "        the starting and current expected values of the Scratcher'''\n",
    "        self.name = name\n",
    "        self.last_update = last_update\n",
    "        self.price = price\n",
    "        self.game_start = game_start\n",
    "        self.prize_table = prize_table\n",
    "        self.overall_odds = overall_odds\n",
    "        self.num_tickets = self.prize_table[\"PrizesAtStart\"].sum() * self.overall_odds\n",
    "        self.orig_ev = self.prize_table[\"StartValue\"].sum() / self.num_tickets\n",
    "        self.remaining_tickets = self.num_tickets * self.prize_table[\"UnclaimedPrizes\"].sum(\n",
    "                                                        ) / self.prize_table[\"PrizesAtStart\"].sum()\n",
    "        self.cur_ev = self.prize_table[\"UnclaimedValue\"].sum() / self.remaining_tickets\n",
    "        self.orig_ROI = (self.orig_ev - self.price) / self.price\n",
    "        self.cur_ROI = (self.cur_ev - self.price) / self.price\n",
    "        \n",
    "\n",
    "def clean_table(table):\n",
    "    '''Cleans prize distribution tables so that all numeric variables can be read in as floats'''\n",
    "    table.columns = [\"PrizeAmount\", \"UnclaimedPrizes\", \"UnclaimedValue\", \"PrizesAtStart\", \"StartValue\"]\n",
    "    for col in table.columns:\n",
    "        if table[col].dtype == \"object\":\n",
    "            table[col] = table[col].str.replace(\"$\", \"\").str.replace(\",\", \"\").astype(float)\n",
    "    return table\n",
    "        \n",
    "def get_scratcher(scratcher_html):\n",
    "    '''Obtains all data necessary for a Scratcher object given the html code for that scratcher'''\n",
    "    scratcher_url = \"https://www.sceducationlottery.com\" + scratcher.find(\"a\", href=True)[\"href\"]\n",
    "    r = requests.get(scratcher_url)\n",
    "    time.sleep(1.5)\n",
    "    soup = BeautifulSoup(r.content, \"html.parser\")\n",
    "    name = soup.findAll(\"h1\")[0].text\n",
    "    for char in bad_chars: name = name.replace(char, \"\")\n",
    "    # Obtaining Scratcher information from html\n",
    "    name = name.strip()\n",
    "    info = soup.findAll(\"div\", {\"class\":\"info-block\"})\n",
    "    last_update = \":\".join(info[0].text.split(\":\")[1:3])\n",
    "    price = int(info[1].text.split(\"$\")[1])\n",
    "    game_start = info[2].text.split(\":\")[1].strip()\n",
    "    prize_table = clean_table(pd.DataFrame(pd.read_html(scratcher_url)[0]))\n",
    "    overall_odds = float(soup.findAll(\"div\", {\"class\":\"bottom-links\"})[0].findAll(\"p\")[0].text.split(\n",
    "                                                                                \"\\r\")[0].split(\"in\")[1])\n",
    "    return Scratcher(name, last_update, price, game_start, prize_table, overall_odds)"
   ]
  },
  {
   "cell_type": "code",
   "execution_count": null,
   "metadata": {},
   "outputs": [],
   "source": [
    "url = \"https://www.sceducationlottery.com/Games/InstantGames#\" # url where all current Scratcher games are contained\n",
    "r = requests.get(url)\n",
    "soup = BeautifulSoup(r.content, 'html.parser')\n",
    "scratcher_data = soup.findAll(\"div\", {\"class\":\"col-md-4\", \"class\":\"col-sm-6\"})\n",
    "\n",
    "bad_chars = [\"\\r\", \"\\n\"] # Characters removed from Scratcher names\n",
    "scratchers = []\n",
    "\n",
    "for scratcher in scratcher_data:\n",
    "    scratchers.append(get_scratcher(scratcher))\n",
    "\n",
    "# Creating dataframe of all Scratchers and their statistics\n",
    "scratcher_df = pd.DataFrame({\"Name\": [s.name for s in scratchers], \"LastUpdate\": [s.last_update for s in scratchers],\n",
    "             \"Price\": [s.price for s in scratchers], \"GameStart\": [s.game_start for s in scratchers],\n",
    "             \"OverallOdds\": [s.overall_odds for s in scratchers], \"NumTickets\": [s.num_tickets for s in scratchers],\n",
    "             \"OrigEV\": [s.orig_ev for s in scratchers], \"RemainingTickets\": [s.remaining_tickets for s in scratchers],\n",
    "             \"CurrentEV\": [s.cur_ev for s in scratchers], \"OrigROI\": [s.orig_ROI for s in scratchers],\n",
    "             \"CurROI\": [s.cur_ROI for s in scratchers]}).drop_duplicates()\n",
    "\n",
    "scratcher_df.head()"
   ]
  },
  {
   "cell_type": "markdown",
   "metadata": {},
   "source": [
    "## Data Visualization\n",
    "\n",
    "### Graphing Average Return by Price of Scratcher"
   ]
  },
  {
   "cell_type": "code",
   "execution_count": null,
   "metadata": {},
   "outputs": [],
   "source": [
    "%matplotlib inline\n",
    "import matplotlib.pyplot as plt\n",
    "import seaborn as sns\n",
    "\n",
    "sns.set(rc={\"figure.figsize\":(12, 8)})\n",
    "scratcher_df.groupby(\"Price\")[\"OrigEV\"].mean().plot.bar(color=sns.color_palette(\"hls\", 6), edgecolor=\"black\", linewidth=2)\n",
    "plt.xticks(fontsize=16, rotation='horizontal')\n",
    "plt.yticks(fontsize=16)\n",
    "plt.xlabel(\"Price of Scratcher in $\", fontsize=18)\n",
    "plt.ylabel(\"Average Return of Scratcher in $\", fontsize=18)\n",
    "plt.title(\"Average Return of Scratchers by Price\", fontsize=20)"
   ]
  },
  {
   "cell_type": "markdown",
   "metadata": {},
   "source": [
    "### Graphing Average Return per Dollar by Price of Scratcher"
   ]
  },
  {
   "cell_type": "code",
   "execution_count": null,
   "metadata": {},
   "outputs": [],
   "source": [
    "sns.set(rc={\"figure.figsize\":(12, 8)})\n",
    "(scratcher_df.groupby(\"Price\")[\"OrigEV\"].mean() / scratcher_df.groupby(\"Price\")[\"Price\"].mean()\n",
    "                        ).plot.bar(color=sns.color_palette(\"hls\", 6), edgecolor=\"black\", linewidth=2)\n",
    "plt.xticks(fontsize=16, rotation='horizontal')\n",
    "plt.yticks(fontsize=16)\n",
    "plt.xlabel(\"Price of Scratcher in $\", fontsize=18)\n",
    "plt.ylabel(\"Average Return of Scratcher per Dollar\", fontsize=18)\n",
    "plt.title(\"Average Return of Scratchers per Dollar by Price\", fontsize=20)\n",
    "plt.ylim(.55, .8)"
   ]
  },
  {
   "cell_type": "markdown",
   "metadata": {},
   "source": [
    "### Graphing Average Expected Loss of Scratcher by Price"
   ]
  },
  {
   "cell_type": "code",
   "execution_count": null,
   "metadata": {},
   "outputs": [],
   "source": [
    "sns.set(rc={\"figure.figsize\":(12, 8)})\n",
    "(scratcher_df.groupby(\"Price\")[\"OrigEV\"].mean() - scratcher_df.groupby(\"Price\")[\"Price\"].mean()).plot.bar(\n",
    "                                            color=sns.color_palette(\"hls\", 6), edgecolor=\"black\", linewidth=2)\n",
    "plt.xticks(fontsize=16, rotation='horizontal')\n",
    "plt.yticks(fontsize=16)\n",
    "plt.xlabel(\"Price of Scratcher in $\", fontsize=18)\n",
    "plt.ylabel(\"Average Expected Loss of Scratcher in $\", fontsize=18)\n",
    "plt.title(\"Average Expected Loss of Scratcher by Price\", fontsize=20)\n",
    "plt.ylim(.5, -5)\n",
    "plt.gca().invert_yaxis()\n",
    "plt.hlines(y=0, xmin=-2, xmax=10)"
   ]
  },
  {
   "cell_type": "markdown",
   "metadata": {},
   "source": [
    "### Graphing the Distribution of Updated ROI's of Scratchers"
   ]
  },
  {
   "cell_type": "code",
   "execution_count": null,
   "metadata": {},
   "outputs": [],
   "source": [
    "sns.set(rc={\"figure.figsize\":(12, 8)})\n",
    "((scratcher_df[\"CurrentEV\"] - scratcher_df[\"Price\"]) / scratcher_df[\"Price\"]).plot.hist(bins=20)\n",
    "plt.xlabel(\"Return on Investment of Scratcher\", fontsize=18)\n",
    "plt.ylabel(\"Frequency\", fontsize=18)\n",
    "plt.title(\"Distribution of Updated Return on Investment's of Scratchers\", fontsize=20)\n",
    "plt.xticks(fontsize=15)\n",
    "plt.yticks(fontsize=15)"
   ]
  },
  {
   "cell_type": "markdown",
   "metadata": {},
   "source": [
    "## Finding Scratchers with Positive Current ROI's"
   ]
  },
  {
   "cell_type": "code",
   "execution_count": null,
   "metadata": {},
   "outputs": [],
   "source": [
    "def find_positive_rois(scratcher_df):\n",
    "    df = scratcher_df[scratcher_df[\"CurROI\"] > 0]\n",
    "    print(\"There are currently %d scratcher(s) with positive ROIs\\n\"%df.shape[0])\n",
    "    for index, row in df.iterrows():\n",
    "        print(row[\"Name\"], \":\", \"\\nPrice:\", row[\"Price\"], \"\\nCurrent Expected Value:\", \n",
    "                    round(row[\"CurrentEV\"], 2), \"\\nCurrent Return on Investment\", row[\"CurROI\"], \"\\n\")\n",
    "        \n",
    "find_positive_rois(scratcher_df)"
   ]
  }
 ],
 "metadata": {
  "kernelspec": {
   "display_name": "Python 3",
   "language": "python",
   "name": "python3"
  },
  "language_info": {
   "codemirror_mode": {
    "name": "ipython",
    "version": 3
   },
   "file_extension": ".py",
   "mimetype": "text/x-python",
   "name": "python",
   "nbconvert_exporter": "python",
   "pygments_lexer": "ipython3",
   "version": "3.7.3"
  }
 },
 "nbformat": 4,
 "nbformat_minor": 2
}
